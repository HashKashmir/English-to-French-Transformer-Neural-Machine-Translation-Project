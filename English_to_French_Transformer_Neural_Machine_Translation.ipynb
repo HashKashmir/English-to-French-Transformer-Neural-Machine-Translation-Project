{
  "cells": [
    {
      "cell_type": "markdown",
      "metadata": {
        "id": "UxHFeOM5crY8"
      },
      "source": [
        "# Transformer Model for English-to-French Translation\n",
        "\n",
        "This Colab notebook implements a Transformer model for translating English sentences into French. The model is built using TensorFlow/Keras and includes steps for data preprocessing, model definition, training, evaluation, and inference."
      ]
    },
    {
      "cell_type": "markdown",
      "metadata": {
        "id": "-Rp5-MhMcueX"
      },
      "source": [
        "# Setup and Data Loading\n",
        "\n",
        "- Import necessary libraries, including TensorFlow, NumPy, Pandas, and Matplotlib.\n",
        "- Load the English-to-French dataset (`eng_-french.csv`) and preprocess it for model training.\n",
        "- Lowercase all text for consistency and add special tokens `<sos>` (start of sequence) and `<eos>` (end of sequence) to mark the start and end of each sentence.\n"
      ]
    },
    {
      "cell_type": "code",
      "execution_count": null,
      "metadata": {
        "id": "O6XMwZum37Tv"
      },
      "outputs": [],
      "source": [
        "import numpy as np\n",
        "import pandas as pd\n",
        "import matplotlib.pyplot as plt\n",
        "import seaborn as sns\n",
        "\n",
        "import tensorflow as tf\n",
        "from tensorflow.keras.preprocessing.text import Tokenizer\n",
        "from tensorflow.keras.preprocessing.sequence import pad_sequences\n",
        "from tensorflow.keras.layers import Embedding, Dense, Input, Dropout, LayerNormalization\n",
        "\n",
        "import os"
      ]
    },
    {
      "cell_type": "code",
      "execution_count": null,
      "metadata": {
        "id": "M-jy2aVHdXr_"
      },
      "outputs": [],
      "source": [
        "devices = tf.config.experimental.list_physical_devices(\"GPU\") #GPU\n",
        "for device in devices:\n",
        "    tf.config.experimental.set_memory_growth(device=device, enable=True)"
      ]
    },
    {
      "cell_type": "code",
      "execution_count": null,
      "metadata": {
        "id": "ay-j2GeIOFqS"
      },
      "outputs": [],
      "source": [
        "# Set TensorFlow to use only the CPU\n",
        "#tf.config.set_visible_devices([], 'GPU')\n",
        "#print(\"Using CPU only\")"
      ]
    },
    {
      "cell_type": "code",
      "execution_count": null,
      "metadata": {
        "id": "HMx38TpLdW1o"
      },
      "outputs": [],
      "source": [
        "df = pd.read_csv(\"eng_-french.csv\")\n",
        "df.columns = [\"en\", \"fr\"]"
      ]
    },
    {
      "cell_type": "code",
      "execution_count": null,
      "metadata": {
        "colab": {
          "base_uri": "https://localhost:8080/",
          "height": 206
        },
        "id": "_I4aXBeAjcIU",
        "outputId": "3888fcfa-372d-4810-c298-89feea7b0649"
      },
      "outputs": [
        {
          "output_type": "execute_result",
          "data": {
            "text/plain": [
              "     en          fr\n",
              "0   Hi.      Salut!\n",
              "1  Run!     Cours !\n",
              "2  Run!    Courez !\n",
              "3  Who?       Qui ?\n",
              "4  Wow!  Ça alors !"
            ],
            "text/html": [
              "\n",
              "  <div id=\"df-a436f238-6474-437d-954f-a843c486862e\" class=\"colab-df-container\">\n",
              "    <div>\n",
              "<style scoped>\n",
              "    .dataframe tbody tr th:only-of-type {\n",
              "        vertical-align: middle;\n",
              "    }\n",
              "\n",
              "    .dataframe tbody tr th {\n",
              "        vertical-align: top;\n",
              "    }\n",
              "\n",
              "    .dataframe thead th {\n",
              "        text-align: right;\n",
              "    }\n",
              "</style>\n",
              "<table border=\"1\" class=\"dataframe\">\n",
              "  <thead>\n",
              "    <tr style=\"text-align: right;\">\n",
              "      <th></th>\n",
              "      <th>en</th>\n",
              "      <th>fr</th>\n",
              "    </tr>\n",
              "  </thead>\n",
              "  <tbody>\n",
              "    <tr>\n",
              "      <th>0</th>\n",
              "      <td>Hi.</td>\n",
              "      <td>Salut!</td>\n",
              "    </tr>\n",
              "    <tr>\n",
              "      <th>1</th>\n",
              "      <td>Run!</td>\n",
              "      <td>Cours !</td>\n",
              "    </tr>\n",
              "    <tr>\n",
              "      <th>2</th>\n",
              "      <td>Run!</td>\n",
              "      <td>Courez !</td>\n",
              "    </tr>\n",
              "    <tr>\n",
              "      <th>3</th>\n",
              "      <td>Who?</td>\n",
              "      <td>Qui ?</td>\n",
              "    </tr>\n",
              "    <tr>\n",
              "      <th>4</th>\n",
              "      <td>Wow!</td>\n",
              "      <td>Ça alors !</td>\n",
              "    </tr>\n",
              "  </tbody>\n",
              "</table>\n",
              "</div>\n",
              "    <div class=\"colab-df-buttons\">\n",
              "\n",
              "  <div class=\"colab-df-container\">\n",
              "    <button class=\"colab-df-convert\" onclick=\"convertToInteractive('df-a436f238-6474-437d-954f-a843c486862e')\"\n",
              "            title=\"Convert this dataframe to an interactive table.\"\n",
              "            style=\"display:none;\">\n",
              "\n",
              "  <svg xmlns=\"http://www.w3.org/2000/svg\" height=\"24px\" viewBox=\"0 -960 960 960\">\n",
              "    <path d=\"M120-120v-720h720v720H120Zm60-500h600v-160H180v160Zm220 220h160v-160H400v160Zm0 220h160v-160H400v160ZM180-400h160v-160H180v160Zm440 0h160v-160H620v160ZM180-180h160v-160H180v160Zm440 0h160v-160H620v160Z\"/>\n",
              "  </svg>\n",
              "    </button>\n",
              "\n",
              "  <style>\n",
              "    .colab-df-container {\n",
              "      display:flex;\n",
              "      gap: 12px;\n",
              "    }\n",
              "\n",
              "    .colab-df-convert {\n",
              "      background-color: #E8F0FE;\n",
              "      border: none;\n",
              "      border-radius: 50%;\n",
              "      cursor: pointer;\n",
              "      display: none;\n",
              "      fill: #1967D2;\n",
              "      height: 32px;\n",
              "      padding: 0 0 0 0;\n",
              "      width: 32px;\n",
              "    }\n",
              "\n",
              "    .colab-df-convert:hover {\n",
              "      background-color: #E2EBFA;\n",
              "      box-shadow: 0px 1px 2px rgba(60, 64, 67, 0.3), 0px 1px 3px 1px rgba(60, 64, 67, 0.15);\n",
              "      fill: #174EA6;\n",
              "    }\n",
              "\n",
              "    .colab-df-buttons div {\n",
              "      margin-bottom: 4px;\n",
              "    }\n",
              "\n",
              "    [theme=dark] .colab-df-convert {\n",
              "      background-color: #3B4455;\n",
              "      fill: #D2E3FC;\n",
              "    }\n",
              "\n",
              "    [theme=dark] .colab-df-convert:hover {\n",
              "      background-color: #434B5C;\n",
              "      box-shadow: 0px 1px 3px 1px rgba(0, 0, 0, 0.15);\n",
              "      filter: drop-shadow(0px 1px 2px rgba(0, 0, 0, 0.3));\n",
              "      fill: #FFFFFF;\n",
              "    }\n",
              "  </style>\n",
              "\n",
              "    <script>\n",
              "      const buttonEl =\n",
              "        document.querySelector('#df-a436f238-6474-437d-954f-a843c486862e button.colab-df-convert');\n",
              "      buttonEl.style.display =\n",
              "        google.colab.kernel.accessAllowed ? 'block' : 'none';\n",
              "\n",
              "      async function convertToInteractive(key) {\n",
              "        const element = document.querySelector('#df-a436f238-6474-437d-954f-a843c486862e');\n",
              "        const dataTable =\n",
              "          await google.colab.kernel.invokeFunction('convertToInteractive',\n",
              "                                                    [key], {});\n",
              "        if (!dataTable) return;\n",
              "\n",
              "        const docLinkHtml = 'Like what you see? Visit the ' +\n",
              "          '<a target=\"_blank\" href=https://colab.research.google.com/notebooks/data_table.ipynb>data table notebook</a>'\n",
              "          + ' to learn more about interactive tables.';\n",
              "        element.innerHTML = '';\n",
              "        dataTable['output_type'] = 'display_data';\n",
              "        await google.colab.output.renderOutput(dataTable, element);\n",
              "        const docLink = document.createElement('div');\n",
              "        docLink.innerHTML = docLinkHtml;\n",
              "        element.appendChild(docLink);\n",
              "      }\n",
              "    </script>\n",
              "  </div>\n",
              "\n",
              "\n",
              "<div id=\"df-a4332d7f-b085-4b59-8a50-2ac62b5eb0f5\">\n",
              "  <button class=\"colab-df-quickchart\" onclick=\"quickchart('df-a4332d7f-b085-4b59-8a50-2ac62b5eb0f5')\"\n",
              "            title=\"Suggest charts\"\n",
              "            style=\"display:none;\">\n",
              "\n",
              "<svg xmlns=\"http://www.w3.org/2000/svg\" height=\"24px\"viewBox=\"0 0 24 24\"\n",
              "     width=\"24px\">\n",
              "    <g>\n",
              "        <path d=\"M19 3H5c-1.1 0-2 .9-2 2v14c0 1.1.9 2 2 2h14c1.1 0 2-.9 2-2V5c0-1.1-.9-2-2-2zM9 17H7v-7h2v7zm4 0h-2V7h2v10zm4 0h-2v-4h2v4z\"/>\n",
              "    </g>\n",
              "</svg>\n",
              "  </button>\n",
              "\n",
              "<style>\n",
              "  .colab-df-quickchart {\n",
              "      --bg-color: #E8F0FE;\n",
              "      --fill-color: #1967D2;\n",
              "      --hover-bg-color: #E2EBFA;\n",
              "      --hover-fill-color: #174EA6;\n",
              "      --disabled-fill-color: #AAA;\n",
              "      --disabled-bg-color: #DDD;\n",
              "  }\n",
              "\n",
              "  [theme=dark] .colab-df-quickchart {\n",
              "      --bg-color: #3B4455;\n",
              "      --fill-color: #D2E3FC;\n",
              "      --hover-bg-color: #434B5C;\n",
              "      --hover-fill-color: #FFFFFF;\n",
              "      --disabled-bg-color: #3B4455;\n",
              "      --disabled-fill-color: #666;\n",
              "  }\n",
              "\n",
              "  .colab-df-quickchart {\n",
              "    background-color: var(--bg-color);\n",
              "    border: none;\n",
              "    border-radius: 50%;\n",
              "    cursor: pointer;\n",
              "    display: none;\n",
              "    fill: var(--fill-color);\n",
              "    height: 32px;\n",
              "    padding: 0;\n",
              "    width: 32px;\n",
              "  }\n",
              "\n",
              "  .colab-df-quickchart:hover {\n",
              "    background-color: var(--hover-bg-color);\n",
              "    box-shadow: 0 1px 2px rgba(60, 64, 67, 0.3), 0 1px 3px 1px rgba(60, 64, 67, 0.15);\n",
              "    fill: var(--button-hover-fill-color);\n",
              "  }\n",
              "\n",
              "  .colab-df-quickchart-complete:disabled,\n",
              "  .colab-df-quickchart-complete:disabled:hover {\n",
              "    background-color: var(--disabled-bg-color);\n",
              "    fill: var(--disabled-fill-color);\n",
              "    box-shadow: none;\n",
              "  }\n",
              "\n",
              "  .colab-df-spinner {\n",
              "    border: 2px solid var(--fill-color);\n",
              "    border-color: transparent;\n",
              "    border-bottom-color: var(--fill-color);\n",
              "    animation:\n",
              "      spin 1s steps(1) infinite;\n",
              "  }\n",
              "\n",
              "  @keyframes spin {\n",
              "    0% {\n",
              "      border-color: transparent;\n",
              "      border-bottom-color: var(--fill-color);\n",
              "      border-left-color: var(--fill-color);\n",
              "    }\n",
              "    20% {\n",
              "      border-color: transparent;\n",
              "      border-left-color: var(--fill-color);\n",
              "      border-top-color: var(--fill-color);\n",
              "    }\n",
              "    30% {\n",
              "      border-color: transparent;\n",
              "      border-left-color: var(--fill-color);\n",
              "      border-top-color: var(--fill-color);\n",
              "      border-right-color: var(--fill-color);\n",
              "    }\n",
              "    40% {\n",
              "      border-color: transparent;\n",
              "      border-right-color: var(--fill-color);\n",
              "      border-top-color: var(--fill-color);\n",
              "    }\n",
              "    60% {\n",
              "      border-color: transparent;\n",
              "      border-right-color: var(--fill-color);\n",
              "    }\n",
              "    80% {\n",
              "      border-color: transparent;\n",
              "      border-right-color: var(--fill-color);\n",
              "      border-bottom-color: var(--fill-color);\n",
              "    }\n",
              "    90% {\n",
              "      border-color: transparent;\n",
              "      border-bottom-color: var(--fill-color);\n",
              "    }\n",
              "  }\n",
              "</style>\n",
              "\n",
              "  <script>\n",
              "    async function quickchart(key) {\n",
              "      const quickchartButtonEl =\n",
              "        document.querySelector('#' + key + ' button');\n",
              "      quickchartButtonEl.disabled = true;  // To prevent multiple clicks.\n",
              "      quickchartButtonEl.classList.add('colab-df-spinner');\n",
              "      try {\n",
              "        const charts = await google.colab.kernel.invokeFunction(\n",
              "            'suggestCharts', [key], {});\n",
              "      } catch (error) {\n",
              "        console.error('Error during call to suggestCharts:', error);\n",
              "      }\n",
              "      quickchartButtonEl.classList.remove('colab-df-spinner');\n",
              "      quickchartButtonEl.classList.add('colab-df-quickchart-complete');\n",
              "    }\n",
              "    (() => {\n",
              "      let quickchartButtonEl =\n",
              "        document.querySelector('#df-a4332d7f-b085-4b59-8a50-2ac62b5eb0f5 button');\n",
              "      quickchartButtonEl.style.display =\n",
              "        google.colab.kernel.accessAllowed ? 'block' : 'none';\n",
              "    })();\n",
              "  </script>\n",
              "</div>\n",
              "\n",
              "    </div>\n",
              "  </div>\n"
            ],
            "application/vnd.google.colaboratory.intrinsic+json": {
              "type": "dataframe",
              "variable_name": "df"
            }
          },
          "metadata": {},
          "execution_count": 5
        }
      ],
      "source": [
        "df.head()"
      ]
    },
    {
      "cell_type": "code",
      "execution_count": null,
      "metadata": {
        "id": "Tq_Nsw_HhiqB"
      },
      "outputs": [],
      "source": [
        "df[\"en\"] = df[\"en\"].str.lower()\n",
        "df[\"fr\"] = df[\"fr\"].str.lower()"
      ]
    },
    {
      "cell_type": "code",
      "execution_count": null,
      "metadata": {
        "id": "q7WncCCeiFyd"
      },
      "outputs": [],
      "source": [
        "en_data = df[\"en\"].values\n",
        "fr_data = df[\"fr\"].values"
      ]
    },
    {
      "cell_type": "code",
      "execution_count": null,
      "metadata": {
        "id": "PVtj6o49hzeV"
      },
      "outputs": [],
      "source": [
        "for i in range(fr_data.shape[0]):\n",
        "    en_data[i] = \"sos \" + str(en_data[i]) + \" eos\"\n",
        "    fr_data[i] = \"sos \" + str(fr_data[i]) + \" eos\""
      ]
    },
    {
      "cell_type": "markdown",
      "metadata": {
        "id": "fjgNVn3jc1q4"
      },
      "source": [
        "# Tokenization and Padding\n",
        "\n",
        "- Use TensorFlow's `Tokenizer` to tokenize English and French sentences.\n",
        "- Convert sentences into sequences of integer tokens representing words.\n",
        "- Pad these sequences to a fixed length of 10 using `pad_sequences` to ensure uniform input sizes for the model.\n"
      ]
    },
    {
      "cell_type": "code",
      "execution_count": null,
      "metadata": {
        "id": "0IlBGusrh039"
      },
      "outputs": [],
      "source": [
        "num_words = 10000\n",
        "tokenizer_en = Tokenizer(num_words=num_words, filters='!\"#$%&\\'()*+,-./:;<=>?@[\\\\]^_`{|}~')\n",
        "tokenizer_en.fit_on_texts(en_data)\n",
        "englist_sentances = tokenizer_en.texts_to_sequences(en_data)"
      ]
    },
    {
      "cell_type": "code",
      "execution_count": null,
      "metadata": {
        "colab": {
          "base_uri": "https://localhost:8080/"
        },
        "id": "QytHqPeYh1yG",
        "outputId": "7607d745-6e60-4b1d-ac96-ccb114ad40fa"
      },
      "outputs": [
        {
          "output_type": "stream",
          "name": "stdout",
          "text": [
            "Num words in English: 14149\n"
          ]
        }
      ],
      "source": [
        "word_index = tokenizer_en.word_index\n",
        "print(f\"Num words in English: {len(word_index)}\")"
      ]
    },
    {
      "cell_type": "code",
      "execution_count": null,
      "metadata": {
        "id": "LJfXD3ONiUJ2"
      },
      "outputs": [],
      "source": [
        "tokenizer_fr = Tokenizer(num_words=num_words, filters='!\"#$%&\\'()*+,-./:;<=>?@[\\\\]^_`{|}~')\n",
        "tokenizer_fr.fit_on_texts(fr_data)\n",
        "french_sentences = tokenizer_fr.texts_to_sequences(fr_data)"
      ]
    },
    {
      "cell_type": "code",
      "execution_count": null,
      "metadata": {
        "colab": {
          "base_uri": "https://localhost:8080/"
        },
        "id": "dpeZw6u9ikSF",
        "outputId": "4aaa7412-16fc-4315-8c17-3e41bd3cd045"
      },
      "outputs": [
        {
          "output_type": "stream",
          "name": "stdout",
          "text": [
            "Num words in French: 27762\n"
          ]
        }
      ],
      "source": [
        "word_index_fr = tokenizer_fr.word_index\n",
        "print(f\"Num words in French: {len(word_index_fr)}\")"
      ]
    },
    {
      "cell_type": "code",
      "execution_count": null,
      "metadata": {
        "id": "5hb30G_fjKIu"
      },
      "outputs": [],
      "source": [
        "english_sentences = pad_sequences(englist_sentances, maxlen=10, padding='post', truncating='post')\n",
        "french_sentences = pad_sequences(french_sentences, maxlen=10, padding='post', truncating='post')"
      ]
    },
    {
      "cell_type": "markdown",
      "metadata": {
        "id": "apwLRKF3dCPh"
      },
      "source": [
        "# Positional Encoding\n",
        "\n",
        "- Define a function for generating positional encodings, which add positional information to the input embeddings.\n",
        "- Use sinusoidal functions (sine for even indices and cosine for odd indices) to compute positional encodings.\n",
        "- Visualize the positional encodings as a heatmap for better understanding.\n"
      ]
    },
    {
      "cell_type": "code",
      "execution_count": null,
      "metadata": {
        "id": "PaX7TrDbjKg1"
      },
      "outputs": [],
      "source": [
        "def get_angles(pos, i, embedding_dim):\n",
        "    angle_rates = 1 / np.power(10000, (2 * (i//2)) / np.float32(embedding_dim))\n",
        "    return pos * angle_rates"
      ]
    },
    {
      "cell_type": "markdown",
      "metadata": {
        "id": "ffKXNwajjSd5"
      },
      "source": [
        "Function to compute the angles for positional encoding. Returns the angle computed"
      ]
    },
    {
      "cell_type": "code",
      "execution_count": null,
      "metadata": {
        "id": "7rX30xSAlD-V"
      },
      "outputs": [],
      "source": [
        "def positional_encoding(position, embedding_dim):\n",
        "    angle_rads = get_angles(np.arange(position)[:, np.newaxis],\n",
        "                            np.arange(embedding_dim)[np.newaxis, :],\n",
        "                            embedding_dim)\n",
        "\n",
        "    # apply sin to even indices in the array, i.e., 2i\n",
        "    angle_rads[:, 0::2] = np.sin(angle_rads[:, 0::2])\n",
        "\n",
        "    # apply cos to odd indices in the array, i.e., 2i+1\n",
        "    angle_rads[:, 1::2] = np.cos(angle_rads[:, 1::2])\n",
        "\n",
        "    pos_encoding = angle_rads[np.newaxis, ...]\n",
        "    return tf.cast(pos_encoding, dtype=tf.float32)"
      ]
    },
    {
      "cell_type": "markdown",
      "metadata": {
        "id": "R5vfuVBZjaBx"
      },
      "source": [
        "Adds positional encoding to the embeddings to be fed to the Transformer model.\n",
        "\n",
        "Computes a sin and cos of the angles determined by the get_angles() function\n",
        "and adds the value computed to an axis of the embeddings.\n"
      ]
    },
    {
      "cell_type": "code",
      "execution_count": null,
      "metadata": {
        "colab": {
          "base_uri": "https://localhost:8080/",
          "height": 577
        },
        "id": "Lpp9cnbUlLl2",
        "outputId": "3a3b8637-8c19-413c-f72b-14111c5e6bcb"
      },
      "outputs": [
        {
          "output_type": "display_data",
          "data": {
            "text/plain": [
              "<Figure size 1000x600 with 2 Axes>"
            ],
            "image/png": "[encoded data removed]"
          },
          "metadata": {}
        }
      ],
      "source": [
        "# Generate positional encodings\n",
        "pos_encodings = positional_encoding(100, 128)\n",
        "\n",
        "# Visualize the encodings as a heatmap\n",
        "plt.figure(figsize=(10, 6))\n",
        "sns.heatmap(pos_encodings[0], cmap='viridis')\n",
        "plt.xlabel('Embedding Dimension')\n",
        "plt.ylabel('Position in Sequence')\n",
        "plt.title('Positional Encodings')\n",
        "plt.show()"
      ]
    },
    {
      "cell_type": "code",
      "execution_count": null,
      "metadata": {
        "id": "CVtyqj9Lls_U"
      },
      "outputs": [],
      "source": [
        "def create_padding_mask(seq):\n",
        "    seq = tf.cast(tf.math.equal(seq, 0), tf.float32)\n",
        "    return seq[:, tf.newaxis, tf.newaxis, :]"
      ]
    },
    {
      "cell_type": "code",
      "execution_count": null,
      "metadata": {
        "id": "_0sZNqdrltm7"
      },
      "outputs": [],
      "source": [
        "def create_look_ahead_mask(size):\n",
        "    mask = 1 - tf.linalg.band_part(tf.ones((size, size)), -1, 0)\n",
        "    return mask"
      ]
    },
    {
      "cell_type": "code",
      "execution_count": null,
      "metadata": {
        "id": "mvqJsUlelvRc"
      },
      "outputs": [],
      "source": [
        "def create_masks(inputs, targets):\n",
        "    enc_padding_mask = create_padding_mask(inputs)\n",
        "    dec_padding_mask = create_padding_mask(inputs)\n",
        "    look_ahead_mask = create_look_ahead_mask(tf.shape(targets)[1])\n",
        "    dec_target_padding_mask = create_padding_mask(targets)\n",
        "    combine_mask = tf.maximum(dec_target_padding_mask, look_ahead_mask)\n",
        "\n",
        "    return enc_padding_mask, combine_mask, dec_padding_mask"
      ]
    },
    {
      "cell_type": "markdown",
      "metadata": {
        "id": "5vYYIoO7dHco"
      },
      "source": [
        "# Attention Mechanisms\n",
        "\n",
        "- Define the scaled dot-product attention, the core component of the Transformer model.\n",
        "- Implement a multi-head attention mechanism, which splits queries, keys, and values into multiple attention heads for better learning.\n",
        "- These mechanisms allow the model to focus on different parts of the input sequence simultaneously.\n"
      ]
    },
    {
      "cell_type": "code",
      "execution_count": null,
      "metadata": {
        "id": "zU9TZlC3lxMl"
      },
      "outputs": [],
      "source": [
        "def scaled_dot_product_attention(q, k, v, mask):\n",
        "    matmul_qk = tf.matmul(q, k, transpose_b=True)\n",
        "    dk = tf.cast(tf.shape(k)[-1], dtype=tf.float32)\n",
        "    scaled_dk = tf.math.sqrt(dk)\n",
        "    scaled_attention_logits = matmul_qk / scaled_dk\n",
        "    if mask is not None:\n",
        "        scaled_attention_logits += (mask * -1e9)\n",
        "    attention_weights = tf.nn.softmax(scaled_attention_logits, axis=-1)\n",
        "    output = tf.matmul(attention_weights, v)\n",
        "    return output, attention_weights"
      ]
    },
    {
      "cell_type": "code",
      "execution_count": null,
      "metadata": {
        "id": "m8NSmmUQmARk"
      },
      "outputs": [],
      "source": [
        "class MultiHeadAttention(tf.keras.layers.Layer):\n",
        "    def __init__(self, key_dim, num_heads, dropout_rate=0.0):\n",
        "        super(MultiHeadAttention, self).__init__()\n",
        "        self.num_heads = num_heads\n",
        "        self.key_dim = key_dim\n",
        "\n",
        "        assert key_dim % num_heads == 0\n",
        "        self.depth = self.key_dim // self.num_heads\n",
        "\n",
        "        self.wq = Dense(key_dim)\n",
        "        self.wk = Dense(key_dim)\n",
        "        self.wv = Dense(key_dim)\n",
        "\n",
        "        self.dropout = Dropout(dropout_rate)\n",
        "        self.dense = Dense(key_dim)\n",
        "\n",
        "    def split_heads(self, x, batch_size):\n",
        "        x = tf.reshape(x, (batch_size, -1, self.num_heads, self.depth))\n",
        "        return tf.transpose(x, perm=[0, 2, 1, 3])\n",
        "\n",
        "    def call(self, v, k, q, mask=None):\n",
        "        batch_size = tf.shape(q)[0]\n",
        "\n",
        "        q = self.wq(q)\n",
        "        k = self.wk(k)\n",
        "        v = self.wv(v)\n",
        "\n",
        "        q = self.split_heads(q, batch_size)\n",
        "        k = self.split_heads(k, batch_size)\n",
        "        v = self.split_heads(v, batch_size)\n",
        "\n",
        "        scaled_attention, attention_weights = scaled_dot_product_attention(q, k, v, mask)\n",
        "        scaled_attention = tf.transpose(scaled_attention, perm=[0, 2, 1, 3])\n",
        "\n",
        "        concat_attention = tf.reshape(scaled_attention, (batch_size, -1, self.key_dim))\n",
        "        output = self.dense(concat_attention)\n",
        "        output = self.dropout(output)\n",
        "\n",
        "        return output, attention_weights"
      ]
    },
    {
      "cell_type": "markdown",
      "metadata": {
        "id": "eg-kTUwHhavj"
      },
      "source": [
        "Multi-head attention layer:\n",
        "\n",
        "    Args:\n",
        "    key_dim (int): The dimension of the key vectors.\n",
        "    num_heads (int): The number of attention heads.\n",
        "    dropout_rate (float, optional): The dropout rate for regularization. Default is 0.0.\n",
        "  \n",
        "Multi-HeadAttention Call:\n",
        "\n",
        "    Forward pass through the multi-head attention layer.\n",
        "\n",
        "    Args:\n",
        "    v (tf.Tensor): The value vectors.\n",
        "    k (tf.Tensor): The key vectors.\n",
        "    q (tf.Tensor): The query vectors.\n",
        "    mask: The mask to be applied in scaled dot product attention.\n",
        "\n",
        "    Returns:\n",
        "    tf.Tensor: The output tensor.\n",
        "    tf.Tensor: The attention weights.\n"
      ]
    },
    {
      "cell_type": "markdown",
      "metadata": {
        "id": "GJ12BOuBdPMq"
      },
      "source": [
        "# Encoder and Decoder\n",
        "\n",
        "- Build the Transformer encoder and decoder, each composed of multiple layers of attention and feedforward networks.\n",
        "- The encoder processes the input sequence and generates a context vector.\n",
        "- The decoder uses this context vector along with target sequences to predict the next word in the sequence.\n"
      ]
    },
    {
      "cell_type": "code",
      "execution_count": null,
      "metadata": {
        "id": "3OnJW4o5mp40"
      },
      "outputs": [],
      "source": [
        "def FeedForward(embedding_dim, fully_connected_dim):\n",
        "    model = tf.keras.Sequential([\n",
        "        tf.keras.layers.Dense(fully_connected_dim, activation='relu'),\n",
        "        tf.keras.layers.Dense(embedding_dim)\n",
        "    ])\n",
        "    return model"
      ]
    },
    {
      "cell_type": "code",
      "execution_count": null,
      "metadata": {
        "id": "dVPkiG8Km2AE"
      },
      "outputs": [],
      "source": [
        "class EncoderLayer(tf.keras.layers.Layer):\n",
        "    def __init__(self, embedding_dim, num_heads, fully_connected_dim, dropout_rate=0.1):\n",
        "        super(EncoderLayer, self).__init__()\n",
        "\n",
        "        self.mha = MultiHeadAttention(embedding_dim, num_heads, dropout_rate)\n",
        "\n",
        "        self.layernorm1 = LayerNormalization(epsilon=1e-6)\n",
        "        self.layernorm2 = LayerNormalization(epsilon=1e-6)\n",
        "\n",
        "        self.dropout = Dropout(dropout_rate)\n",
        "\n",
        "        # Feedforward network\n",
        "        self.ffn = FeedForward(embedding_dim, fully_connected_dim)\n",
        "\n",
        "    def call(self, x, training, mask):\n",
        "        # Apply multi-head self-attention mechanism to input tensor\n",
        "        attn_output, _ = self.mha(x, x, x, mask=mask)\n",
        "\n",
        "        out1 = self.layernorm1(attn_output + x)\n",
        "\n",
        "        # Apply feedforward network to output of first layer normalization\n",
        "        ffn_output = self.ffn(out1)\n",
        "        ffn_output = self.dropout(ffn_output, training=training)\n",
        "\n",
        "        out2 = self.layernorm2(ffn_output + out1)\n",
        "\n",
        "        return out2"
      ]
    },
    {
      "cell_type": "markdown",
      "metadata": {
        "id": "AKI52Prlj1Ge"
      },
      "source": [
        "EncoderLayer:\n",
        "\n",
        "    A single layer of the encoder in a Transformer model.\n",
        "\n",
        "    Args:\n",
        "    embedding_dim (int): The dimension of the input embeddings.\n",
        "    num_heads (int): The number of attention heads in the multi-head attention mechanism.\n",
        "    fully_connected_dim (int): The dimension of the fully connected feedforward network.\n",
        "    dropout_rate (float, optional): The dropout rate to be applied. Default is 0.1.\n",
        "\n",
        "EncoderLayer Call:\n",
        "\n",
        "    Forward pass through the encoder layer.\n",
        "\n",
        "    Args:\n",
        "    x (tf.Tensor): The input tensor.\n",
        "    training (bool): Whether the model is in training mode.\n",
        "    mask: The mask to be applied in multi-head attention.\n",
        "\n",
        "    Returns:\n",
        "    tf.Tensor: The output tensor after passing through the encoder layer."
      ]
    },
    {
      "cell_type": "code",
      "execution_count": null,
      "metadata": {
        "id": "k7qE5SRhnSJj"
      },
      "outputs": [],
      "source": [
        "class Encoder(tf.keras.layers.Layer):\n",
        "    def __init__(self, num_layers, embedding_dim, num_heads, fully_connected_dim, input_vocab_size, maximum_position_encoding, dropout_rate=0.1):\n",
        "        super(Encoder, self).__init__()\n",
        "\n",
        "        self.num_layers = num_layers\n",
        "        self.embedding_dim = embedding_dim\n",
        "\n",
        "        # Embedding Layer\n",
        "        self.embedding = Embedding(input_vocab_size, embedding_dim)\n",
        "\n",
        "        # Positional encoding\n",
        "        self.pos_encoding = positional_encoding(maximum_position_encoding, embedding_dim)\n",
        "\n",
        "        # Encoder Layers\n",
        "        self.enc_layers = [EncoderLayer(embedding_dim, num_heads, fully_connected_dim, dropout_rate) for _ in range(num_layers)]\n",
        "\n",
        "        # Dropout Layer\n",
        "        self.dropout = Dropout(dropout_rate)\n",
        "\n",
        "    def call(self, inputs, training, mask):\n",
        "        seq_len = tf.shape(inputs)[1]\n",
        "        inputs = self.embedding(inputs)\n",
        "        inputs *= tf.math.sqrt(tf.cast(self.embedding_dim, tf.float32))\n",
        "\n",
        "        # Add positional encodings to the input sequence\n",
        "        inputs += self.pos_encoding[:, :seq_len, :]\n",
        "\n",
        "        inputs = self.dropout(inputs, training=training)\n",
        "\n",
        "        # Pass the input sequence through the encoder layers\n",
        "        for i in range(self.num_layers):\n",
        "            inputs = self.enc_layers[i](inputs, training=training, mask=mask)\n",
        "\n",
        "        return inputs"
      ]
    },
    {
      "cell_type": "markdown",
      "metadata": {
        "id": "m-27UfNUkn_w"
      },
      "source": [
        "Encoder:\n",
        "\n",
        "    Args:\n",
        "    num_layers (int): The number of encoder layers.\n",
        "    embedding_dim (int): The dimension of the input embeddings.\n",
        "    num_heads (int): The number of attention heads in the multi-head attention mechanism.\n",
        "    fully_connected_dim (int): The dimension of the fully connected feedforward network.\n",
        "    input_vocab_size (int): The size of the input vocabulary.\n",
        "    maximum_position_encoding (int): The maximum position for positional encoding.\n",
        "    dropout_rate (float, optional): The dropout rate to be applied. Default is 0.1.\n",
        "\n",
        "Encoder Call:\n",
        "\n",
        "    Forward pass through the encoder.\n",
        "\n",
        "    Args:\n",
        "    inputs (tf.Tensor): The input sequence tensor.\n",
        "    training (bool): Whether the model is in training mode.\n",
        "    mask: The mask to be applied in multi-head attention.\n",
        "\n",
        "    Returns:\n",
        "    tf.Tensor: The encoded sequence tensor."
      ]
    },
    {
      "cell_type": "code",
      "execution_count": null,
      "metadata": {
        "id": "X_GuvMYmpkuj"
      },
      "outputs": [],
      "source": [
        "class DecoderLayer(tf.keras.layers.Layer):\n",
        "    def __init__(self, embedding_dim, num_heads, fully_connected_dim, dropout_rate=0.1):\n",
        "        super(DecoderLayer, self).__init__()\n",
        "\n",
        "        self.mha1 = MultiHeadAttention(embedding_dim, num_heads, dropout_rate)\n",
        "        self.mha2 = MultiHeadAttention(embedding_dim, num_heads, dropout_rate)\n",
        "\n",
        "        self.ffn = FeedForward(embedding_dim, fully_connected_dim)\n",
        "\n",
        "        self.layernorm1 = LayerNormalization(epsilon=1e-6)\n",
        "        self.layernorm2 = LayerNormalization(epsilon=1e-6)\n",
        "        self.layernorm3 = LayerNormalization(epsilon=1e-6)\n",
        "\n",
        "        self.dropout3 = Dropout(dropout_rate)\n",
        "\n",
        "    def call(self, x, enc_output, training, look_ahead_mask, padding_mask):\n",
        "        # Apply the first multi-head attention layer to the query vector x.\n",
        "        # We pass x as all three inputs to the layer because this is a self-attention layer.\n",
        "        attn1, attn_weights_block1 = self.mha1(x, x, x, mask=look_ahead_mask)\n",
        "\n",
        "        out1 = self.layernorm1(attn1 + x)\n",
        "\n",
        "        # Apply the second multi-head attention layer to the output from the first layer and the encoder output.\n",
        "        attn2, attn_weights_block2 = self.mha2(enc_output, enc_output, out1, mask=padding_mask)\n",
        "\n",
        "        out2 = self.layernorm2(attn2 + out1)\n",
        "\n",
        "        ffn_output = self.ffn(out2)\n",
        "        ffn_output = self.dropout3(ffn_output, training=training)\n",
        "\n",
        "        out3 = self.layernorm3(ffn_output + out2)\n",
        "\n",
        "        return out3, attn_weights_block1, attn_weights_block2"
      ]
    },
    {
      "cell_type": "markdown",
      "metadata": {
        "id": "TAAU_A0Plbpw"
      },
      "source": [
        "DecoderLayer:\n",
        "\n",
        "    Initializes a single decoder layer of the transformer model.\n",
        "\n",
        "    Args:\n",
        "    embedding_dim: The dimension of the embedding space.\n",
        "    num_heads: The number of attention heads to use.\n",
        "    fully_connected_dim: The dimension of the feedforward network.\n",
        "    rate: The dropout rate for regularization.\n",
        "\n",
        "DecoderLayer Call:\n",
        "\n",
        "    Forward pass through the decoder layer.\n",
        "\n",
        "    Args:\n",
        "    x (tf.Tensor): The input tensor.\n",
        "    enc_output (tf.Tensor): The output from the encoder layer.\n",
        "    training (bool): Whether the model is in training mode.\n",
        "    look_ahead_mask: The mask for look-ahead in multi-head attention.\n",
        "    padding_mask: The mask for padding in multi-head attention.\n",
        "\n",
        "    Returns:\n",
        "    tf.Tensor: The output tensor after passing through the decoder layer.\n",
        "    tf.Tensor: The attention weights for the first multi-head attention.\n",
        "    tf.Tensor: The attention weights for the second multi-head attention."
      ]
    },
    {
      "cell_type": "code",
      "execution_count": null,
      "metadata": {
        "id": "6pWP88CKquZT"
      },
      "outputs": [],
      "source": [
        "class Decoder(tf.keras.layers.Layer):\n",
        "    def __init__(self, num_layers, embedding_dim, num_heads, fully_connected_dim, target_vocab_size, maximum_position_encoding, dropout_rate=0.1):\n",
        "        super(Decoder, self).__init__()\n",
        "\n",
        "        self.num_layers = num_layers\n",
        "        self.embedding_dim = embedding_dim\n",
        "\n",
        "        self.embedding = Embedding(target_vocab_size, embedding_dim)\n",
        "        self.pos_encoding = positional_encoding(maximum_position_encoding, embedding_dim)\n",
        "        self.dec_layers = [DecoderLayer(embedding_dim, num_heads, fully_connected_dim, dropout_rate=0.1) for _ in range(num_layers)]\n",
        "        self.dropout = Dropout(dropout_rate)\n",
        "\n",
        "    def call(self, x, enc_output, training, look_ahead_mask, padding_mask):\n",
        "        seq_len = tf.shape(x)[1]\n",
        "        attention_weights = {}\n",
        "\n",
        "        # add embedding and positional encoding\n",
        "        x = self.embedding(x)\n",
        "        x *= tf.math.sqrt(tf.cast(self.embedding_dim, tf.float32))\n",
        "        x += self.pos_encoding[:, :seq_len, :]\n",
        "        x = self.dropout(x, training=training)\n",
        "\n",
        "        # apply each layer of the decoder\n",
        "        for i in range(self.num_layers):\n",
        "            # pass through decoder layer i\n",
        "            x, block1, block2 = self.dec_layers[i](x=x, enc_output=enc_output, training=training, look_ahead_mask=look_ahead_mask, padding_mask=padding_mask)\n",
        "\n",
        "            attention_weights[f\"decoder_layer{i + 1}_block1\"] = block1\n",
        "            attention_weights[f\"decoder_layer{i + 1}_block2\"] = block2\n",
        "\n",
        "        return x, attention_weights"
      ]
    },
    {
      "cell_type": "markdown",
      "metadata": {
        "id": "A--6HjbymU_A"
      },
      "source": [
        "Decoder:\n",
        "\n",
        "    The decoder component of a Transformer model.\n",
        "\n",
        "    Args:\n",
        "    num_layers (int): The number of decoder layers.\n",
        "    embedding_dim (int): The dimension of the input embeddings.\n",
        "    num_heads (int): The number of attention heads to use.\n",
        "    fully_connected_dim (int): The dimension of the feedforward network.\n",
        "    target_vocab_size (int): The size of the target vocabulary.\n",
        "    maximum_position_encoding (int): The maximum position for positional encoding.\n",
        "    dropout_rate (float, optional): The dropout rate for regularization. Default is 0.1.\n",
        "\n",
        "Decoder Call:\n",
        "\n",
        "    Forward pass through the decoder.\n",
        "\n",
        "    Args:\n",
        "    x (tf.Tensor): The input sequence tensor.\n",
        "    enc_output (tf.Tensor): The output from the encoder layer.\n",
        "    training (bool): Whether the model is in training mode.\n",
        "    look_ahead_mask: The mask for look-ahead in multi-head attention.\n",
        "    padding_mask: The mask for padding in multi-head attention.\n",
        "\n",
        "    Returns:\n",
        "    tf.Tensor: The decoded sequence tensor.\n",
        "    dict: Dictionary containing attention weights for each decoder layer."
      ]
    },
    {
      "cell_type": "markdown",
      "metadata": {
        "id": "6gChlGJQdXGG"
      },
      "source": [
        "# Training the Transformer\n",
        "\n",
        "- Define custom loss and accuracy functions to handle padded tokens.\n",
        "- Implement a custom learning rate schedule inspired by the original Transformer paper.\n",
        "- Train the model for 50 epochs, processing the dataset in batches of 256.\n",
        "- Visualize the training loss and accuracy after each epoch.\n"
      ]
    },
    {
      "cell_type": "code",
      "execution_count": null,
      "metadata": {
        "id": "7XoUIIyXsdoy"
      },
      "outputs": [],
      "source": [
        "class Transformer(tf.keras.Model):\n",
        "    def __init__(self, num_layers, embedding_dim, num_heads, fully_connected_dim, input_vocab_size,\n",
        "                 target_vocab_size, max_positional_encoding_input, max_positional_encoding_target, dropout_rate=0.1):\n",
        "        super(Transformer, self).__init__()\n",
        "\n",
        "        self.encoder = Encoder(num_layers, embedding_dim, num_heads, fully_connected_dim, input_vocab_size, max_positional_encoding_input, dropout_rate)\n",
        "        self.decoder = Decoder(num_layers, embedding_dim, num_heads, fully_connected_dim, input_vocab_size, max_positional_encoding_target, dropout_rate)\n",
        "\n",
        "        self.final_layer = tf.keras.layers.Dense(target_vocab_size, activation='softmax')\n",
        "\n",
        "    def call(self, inp, tar, training, enc_padding_mask, look_ahead_mask, dec_padding_mask):\n",
        "        # Pass the input sequence through the Encoder\n",
        "        enc_output = self.encoder(inputs=inp, training=training, mask=enc_padding_mask)\n",
        "\n",
        "        # Pass the target sequence and the output of the Encoder through the Decoder\n",
        "        dec_output, attention_weights = self.decoder(x=tar, enc_output=enc_output, training=training, look_ahead_mask=look_ahead_mask, padding_mask=dec_padding_mask)\n",
        "\n",
        "        # Pass the output of the Decoder through the final dense layer to get the final prediction\n",
        "        final_output = self.final_layer(dec_output)\n",
        "\n",
        "        return final_output, attention_weights"
      ]
    },
    {
      "cell_type": "markdown",
      "metadata": {
        "id": "tgZFDEiSmyr5"
      },
      "source": [
        "Transformer:\n",
        "\n",
        "    The Transformer model.\n",
        "\n",
        "    Args:\n",
        "    num_layers (int): The number of layers in the encoder and decoder.\n",
        "    embedding_dim (int): The dimension of the input embeddings.\n",
        "    num_heads (int): The number of attention heads to use.\n",
        "    fully_connected_dim (int): The dimension of the feedforward network.\n",
        "    input_vocab_size (int): The size of the input vocabulary.\n",
        "    target_vocab_size (int): The size of the target vocabulary.\n",
        "    max_positional_encoding_input (int): The maximum positional encoding for the input.\n",
        "    max_positional_encoding_target (int): The maximum positional encoding for the target.\n",
        "    dropout_rate (float, optional): The dropout rate for regularization. Default is 0.1.\n",
        "\n",
        "Transformer Call:\n",
        "\n",
        "    Forward pass through the Transformer.\n",
        "\n",
        "    Args:\n",
        "    inp (tf.Tensor): The input sequence tensor.\n",
        "    tar (tf.Tensor): The target sequence tensor.\n",
        "    training (bool): Whether the model is in training mode.\n",
        "    enc_padding_mask: The mask for padding in the encoder.\n",
        "    look_ahead_mask: The mask for look-ahead in the decoder.\n",
        "    dec_padding_mask: The mask for padding in the decoder.\n",
        "\n",
        "    Returns:\n",
        "    tf.Tensor: The final prediction tensor.\n",
        "    dict: Dictionary containing attention weights from the decoder."
      ]
    },
    {
      "cell_type": "code",
      "execution_count": null,
      "metadata": {
        "id": "ee_B5wKKuZSH"
      },
      "outputs": [],
      "source": [
        "# Set hyperparameters for the Transformer model\n",
        "# (Can take a while depending on what you do, for me it takes like 1.5-3 hours)\n",
        "embedding_dim = 128 # Originally 256, time constraints # dimensionality of the embeddings used for tokens in the input and target sequences\n",
        "fully_connected_dim = 256 # Originally 512, time constraints # dimensionality of the hidden layer of the feedforward neural network within the Transformer block\n",
        "num_layers = 2 # Originally 4, time constraints\n",
        "num_heads = 4 # Originally 8, time constraints\n",
        "dropout_rate = 0.1\n",
        "\n",
        "# Set vocabulary sizes for input and target sequences\n",
        "input_vocab_size = len(tokenizer_fr.word_index) + 2\n",
        "target_vocab_size = len(tokenizer_en.word_index) + 2\n",
        "\n",
        "# Set maximum positional encoding values for input and target sequences\n",
        "max_positional_encoding_input = input_vocab_size\n",
        "max_positional_encoding_target = target_vocab_size\n",
        "\n",
        "# Set the number of epochs and batch size for training\n",
        "EPOCHS = 70\n",
        "batch_size = 512 # Originally 256, time constraints\n",
        "\n",
        "# Visualizing Metrics\n",
        "loss_history = []\n",
        "accuracy_history = []"
      ]
    },
    {
      "cell_type": "code",
      "execution_count": null,
      "metadata": {
        "id": "UaX0MH2XI0sO"
      },
      "outputs": [],
      "source": [
        "# Define a directory to save the model\n",
        "MODEL_DIR = \"./transformer_model\"\n",
        "if not os.path.exists(MODEL_DIR):\n",
        "    os.makedirs(MODEL_DIR)"
      ]
    },
    {
      "cell_type": "code",
      "execution_count": null,
      "metadata": {
        "id": "qch1SPnhu1-5"
      },
      "outputs": [],
      "source": [
        "class CustomSchedule(tf.keras.optimizers.schedules.LearningRateSchedule):\n",
        "    def __init__(self, embedding_dim, warmup_steps=4000):\n",
        "        super(CustomSchedule, self).__init__()\n",
        "        self.embedding_dim = tf.cast(embedding_dim, dtype=tf.float32)\n",
        "        self.warmup_steps = tf.cast(warmup_steps, dtype=tf.float32)\n",
        "\n",
        "    def __call__(self, step):\n",
        "        step = tf.cast(step, dtype=tf.float32)\n",
        "        arg1 = tf.math.rsqrt(step)\n",
        "        arg2 = step * (self.warmup_steps ** -1.5)\n",
        "        return tf.math.rsqrt(self.embedding_dim) * tf.math.minimum(arg1, arg2)\n",
        "\n",
        "# Create an instance of the custom learning rate schedule\n",
        "learning_rate = CustomSchedule(embedding_dim)"
      ]
    },
    {
      "cell_type": "code",
      "execution_count": null,
      "metadata": {
        "id": "5Z1DRG8EvObq"
      },
      "outputs": [],
      "source": [
        "transformer = Transformer(num_layers, embedding_dim, num_heads,\n",
        "                          fully_connected_dim, input_vocab_size, target_vocab_size,\n",
        "                          max_positional_encoding_input, max_positional_encoding_target, dropout_rate)\n",
        "\n",
        "# Define the optimizer\n",
        "optimizer = tf.keras.optimizers.Adam(learning_rate, beta_1=0.9, beta_2=0.98, epsilon=1e-9)\n",
        "\n",
        "# Define the loss object\n",
        "loss_object = tf.keras.losses.SparseCategoricalCrossentropy()"
      ]
    },
    {
      "cell_type": "code",
      "execution_count": null,
      "metadata": {
        "id": "okrX6SbZvQTB"
      },
      "outputs": [],
      "source": [
        "def loss_function(true_values, predictions):\n",
        "    mask = tf.math.logical_not(tf.math.equal(true_values, 0))\n",
        "\n",
        "    loss_ = loss_object(true_values, predictions)\n",
        "\n",
        "    mask = tf.cast(mask, dtype=loss_.dtype)\n",
        "    loss_ *= mask\n",
        "\n",
        "    return tf.reduce_sum(loss_) / tf.reduce_sum(mask)\n",
        "\n",
        "def accuracy_function(true_values, predictions):\n",
        "    accuracies = tf.equal(true_values, tf.argmax(predictions, axis=2))\n",
        "\n",
        "    mask = tf.math.logical_not(tf.math.equal(true_values, 0))\n",
        "\n",
        "    # Apply the mask to exclude the padding tokens from the accuracies\n",
        "    accuracies = tf.math.logical_and(mask, accuracies)\n",
        "    accuracies = tf.cast(accuracies, dtype=tf.float32)\n",
        "    mask = tf.cast(mask, dtype=tf.float32)\n",
        "\n",
        "    return tf.reduce_sum(accuracies) / tf.reduce_sum(mask)\n",
        "\n",
        "# Define the training metrics\n",
        "train_loss = tf.keras.metrics.Mean(name='train_loss')\n",
        "train_accuracy = tf.keras.metrics.SparseCategoricalAccuracy(name='train_accuracy')"
      ]
    },
    {
      "cell_type": "markdown",
      "metadata": {
        "id": "aWplleNnndTA"
      },
      "source": [
        "Loss_Function:\n",
        "\n",
        "    Calculate the loss value for a given target sequence.\n",
        "\n",
        "    Args:\n",
        "    true_values (tf.Tensor): The true target sequence.\n",
        "    predictions (tf.Tensor): The predicted target sequence.\n",
        "\n",
        "    Returns:\n",
        "    float: The loss value for the given target sequence.\n",
        "\n",
        "Accuracy_Function:\n",
        "\n",
        "    Calculate the accuracy for a given target sequence.\n",
        "\n",
        "    Args:\n",
        "    true_values (tf.Tensor): The true target sequence.\n",
        "    predictions (tf.Tensor): The predicted target sequence.\n",
        "\n",
        "    Returns:\n",
        "    float: The accuracy value for the given target sequence."
      ]
    },
    {
      "cell_type": "code",
      "execution_count": null,
      "metadata": {
        "id": "WA6e5719vd0y"
      },
      "outputs": [],
      "source": [
        "@tf.function()\n",
        "def train_step(encoder_input, target):\n",
        "    decoder_input = target[:, :-1]\n",
        "    expected_output = target[:, 1:]\n",
        "\n",
        "    # Create masks for the encoder input, decoder input and the padding\n",
        "    enc_padding_mask, combined_mask, dec_padding_mask = create_masks(encoder_input, decoder_input)\n",
        "\n",
        "    # Perform a forward pass through the model\n",
        "    with tf.GradientTape() as tape:\n",
        "      predictions, _ = transformer(encoder_input, decoder_input, training=True, enc_padding_mask=enc_padding_mask, look_ahead_mask=combined_mask, dec_padding_mask=dec_padding_mask)\n",
        "\n",
        "      loss = loss_function(expected_output, predictions)\n",
        "\n",
        "    gradients = tape.gradient(loss, transformer.trainable_variables)\n",
        "    optimizer.apply_gradients(zip(gradients, transformer.trainable_variables))\n",
        "\n",
        "    train_loss(loss)\n",
        "    train_accuracy(expected_output, predictions)"
      ]
    },
    {
      "cell_type": "markdown",
      "metadata": {
        "id": "nVBgeL51n523"
      },
      "source": [
        "Train_Step:    \n",
        "    \n",
        "    Function to perform a single training step.\n",
        "\n",
        "    Args:\n",
        "    encoder_input (tf.Tensor): The input tensor for the encoder.\n",
        "    target (tf.Tensor): The target tensor for the decoder.\n",
        "\n",
        "    Returns:\n",
        "    None."
      ]
    },
    {
      "cell_type": "code",
      "execution_count": null,
      "metadata": {
        "colab": {
          "base_uri": "https://localhost:8080/"
        },
        "id": "oblvCDQGw9GA",
        "outputId": "b2b941ef-dc68-4702-e48b-b404977290a3"
      },
      "outputs": [
        {
          "output_type": "stream",
          "name": "stdout",
          "text": [
            "Epoch 0 Loss 8.3434 Accuracy 0.1446\n",
            "Epoch 1 Loss 5.2851 Accuracy 0.2866\n",
            "Epoch 2 Loss 3.4925 Accuracy 0.4419\n",
            "Epoch 3 Loss 2.5422 Accuracy 0.5544\n",
            "Epoch 4 Loss 1.9480 Accuracy 0.6417\n",
            "Epoch 5 Loss 1.5642 Accuracy 0.6947\n",
            "Epoch 6 Loss 1.3164 Accuracy 0.7262\n",
            "Epoch 7 Loss 1.1537 Accuracy 0.7468\n",
            "Epoch 8 Loss 1.0355 Accuracy 0.7624\n",
            "Epoch 9 Loss 0.9576 Accuracy 0.7726\n",
            "Epoch 10 Loss 0.8966 Accuracy 0.7818\n",
            "Epoch 11 Loss 0.8561 Accuracy 0.7877\n",
            "Epoch 12 Loss 0.7966 Accuracy 0.7981\n",
            "Epoch 13 Loss 0.7443 Accuracy 0.8075\n",
            "Epoch 14 Loss 0.7020 Accuracy 0.8154\n",
            "Epoch 15 Loss 0.6673 Accuracy 0.8216\n",
            "Epoch 16 Loss 0.6351 Accuracy 0.8282\n",
            "Epoch 17 Loss 0.6115 Accuracy 0.8322\n",
            "Epoch 18 Loss 0.5913 Accuracy 0.8364\n",
            "Epoch 19 Loss 0.5689 Accuracy 0.8408\n",
            "Epoch 20 Loss 0.5508 Accuracy 0.8445\n",
            "Epoch 21 Loss 0.5337 Accuracy 0.8481\n",
            "Epoch 22 Loss 0.5221 Accuracy 0.8500\n",
            "Epoch 23 Loss 0.5076 Accuracy 0.8532\n",
            "Epoch 24 Loss 0.4986 Accuracy 0.8550\n",
            "Epoch 25 Loss 0.4857 Accuracy 0.8581\n",
            "Epoch 26 Loss 0.4742 Accuracy 0.8602\n",
            "Epoch 27 Loss 0.4652 Accuracy 0.8624\n",
            "Epoch 28 Loss 0.4578 Accuracy 0.8638\n",
            "Epoch 29 Loss 0.4487 Accuracy 0.8656\n",
            "Epoch 30 Loss 0.4416 Accuracy 0.8674\n",
            "Epoch 31 Loss 0.4337 Accuracy 0.8690\n",
            "Epoch 32 Loss 0.4275 Accuracy 0.8704\n",
            "Epoch 33 Loss 0.4222 Accuracy 0.8716\n",
            "Epoch 34 Loss 0.4175 Accuracy 0.8725\n",
            "Epoch 35 Loss 0.4106 Accuracy 0.8740\n",
            "Epoch 36 Loss 0.4053 Accuracy 0.8755\n",
            "Epoch 37 Loss 0.3998 Accuracy 0.8765\n",
            "Epoch 38 Loss 0.3949 Accuracy 0.8780\n",
            "Epoch 39 Loss 0.3906 Accuracy 0.8786\n",
            "Epoch 40 Loss 0.3863 Accuracy 0.8795\n",
            "Epoch 41 Loss 0.3822 Accuracy 0.8806\n",
            "Epoch 42 Loss 0.3784 Accuracy 0.8814\n",
            "Epoch 43 Loss 0.3751 Accuracy 0.8821\n",
            "Epoch 44 Loss 0.3717 Accuracy 0.8829\n",
            "Epoch 45 Loss 0.3686 Accuracy 0.8838\n",
            "Epoch 46 Loss 0.3647 Accuracy 0.8845\n",
            "Epoch 47 Loss 0.3627 Accuracy 0.8848\n",
            "Epoch 48 Loss 0.3601 Accuracy 0.8856\n",
            "Epoch 49 Loss 0.3551 Accuracy 0.8867\n",
            "Epoch 50 Loss 0.3532 Accuracy 0.8871\n",
            "Epoch 51 Loss 0.3515 Accuracy 0.8875\n",
            "Epoch 52 Loss 0.3472 Accuracy 0.8889\n",
            "Epoch 53 Loss 0.3449 Accuracy 0.8889\n",
            "Epoch 54 Loss 0.3430 Accuracy 0.8894\n",
            "Epoch 55 Loss 0.3407 Accuracy 0.8900\n",
            "Epoch 56 Loss 0.3382 Accuracy 0.8907\n",
            "Epoch 57 Loss 0.3363 Accuracy 0.8911\n",
            "Epoch 58 Loss 0.3339 Accuracy 0.8916\n",
            "Epoch 59 Loss 0.3332 Accuracy 0.8918\n",
            "Epoch 60 Loss 0.3297 Accuracy 0.8926\n",
            "Epoch 61 Loss 0.3291 Accuracy 0.8928\n",
            "Epoch 62 Loss 0.3272 Accuracy 0.8935\n",
            "Epoch 63 Loss 0.3247 Accuracy 0.8940\n",
            "Epoch 64 Loss 0.3227 Accuracy 0.8946\n",
            "Epoch 65 Loss 0.3216 Accuracy 0.8946\n",
            "Epoch 66 Loss 0.3192 Accuracy 0.8949\n",
            "Epoch 67 Loss 0.3177 Accuracy 0.8957\n",
            "Epoch 68 Loss 0.3164 Accuracy 0.8959\n",
            "Epoch 69 Loss 0.3149 Accuracy 0.8961\n",
            "Epoch 70 Loss 0.3125 Accuracy 0.8969\n"
          ]
        }
      ],
      "source": [
        "for epoch in range(0, EPOCHS+1):\n",
        "    # Reset the metrics at the start of the next epoch\n",
        "    train_loss.reset_state()\n",
        "    train_accuracy.reset_state()\n",
        "    current_batch_index = 0\n",
        "\n",
        "    # Iterate through the dataset in batches of batch_size\n",
        "    for i in range(int(len(english_sentences)/batch_size)):\n",
        "        # Get the input and target batch\n",
        "        input_batch = tf.convert_to_tensor(np.array(english_sentences[current_batch_index:current_batch_index+batch_size]),dtype=tf.int64)\n",
        "        target_batch = tf.convert_to_tensor(np.array(french_sentences[current_batch_index:current_batch_index+batch_size]),dtype=tf.int64)\n",
        "\n",
        "        current_batch_index = current_batch_index + batch_size\n",
        "        # Call the train_step function to train the model using the current batch\n",
        "        train_step(input_batch, target_batch)\n",
        "\n",
        "    # Append epoch metrics to history\n",
        "    loss_history.append(train_loss.result().numpy())\n",
        "    accuracy_history.append(train_accuracy.result().numpy())\n",
        "\n",
        "    print(f'Epoch {epoch} Loss {train_loss.result():.4f} Accuracy {train_accuracy.result():.4f}')"
      ]
    },
    {
      "cell_type": "code",
      "execution_count": null,
      "metadata": {
        "colab": {
          "base_uri": "https://localhost:8080/"
        },
        "id": "t1-z59sK3AxI",
        "outputId": "2dcbfe42-d6ab-4134-ebee-c4152c677105"
      },
      "outputs": [
        {
          "output_type": "stream",
          "name": "stdout",
          "text": [
            "Input batch shape: (512, 10)\n",
            "Target batch shape: (512, 10)\n",
            "Input batch dtype: <dtype: 'int64'>\n",
            "Target batch dtype: <dtype: 'int64'>\n"
          ]
        }
      ],
      "source": [
        "print(\"Input batch shape:\", input_batch.shape)\n",
        "print(\"Target batch shape:\", target_batch.shape)\n",
        "print(\"Input batch dtype:\", input_batch.dtype)\n",
        "print(\"Target batch dtype:\", target_batch.dtype)"
      ]
    },
    {
      "cell_type": "markdown",
      "metadata": {
        "id": "9kjHYiSQdcfm"
      },
      "source": [
        "# Saving and Loading the Model\n",
        "\n",
        "- Save the trained Transformer model in TensorFlow's `.keras` format to avoid retraining in future runs.\n",
        "- Check if a saved model exists, and load it to skip the training process. If no saved model is found, proceed with training.\n"
      ]
    },
    {
      "cell_type": "code",
      "execution_count": null,
      "metadata": {
        "id": "K0CpXw_xH8vW",
        "colab": {
          "base_uri": "https://localhost:8080/"
        },
        "outputId": "19d60e15-4add-466e-f3e7-04073cb60674"
      },
      "outputs": [
        {
          "output_type": "stream",
          "name": "stdout",
          "text": [
            "Model saved in ./transformer_model/saved_model.keras\n"
          ]
        }
      ],
      "source": [
        "# Save the trained model in native Keras format\n",
        "if not os.path.exists(f\"{MODEL_DIR}/saved_model.keras\"):\n",
        "    transformer.save(f\"{MODEL_DIR}/saved_model.keras\")\n",
        "    print(f\"Model saved in {MODEL_DIR}/saved_model.keras\")"
      ]
    },
    {
      "cell_type": "code",
      "execution_count": null,
      "metadata": {
        "id": "ufjVRWHbaIAf"
      },
      "outputs": [],
      "source": [
        "# Check if the model exists and load it\n",
        "if os.path.exists(f\"{MODEL_DIR}/saved_model.keras\"):\n",
        "    print(f\"Loading model from {MODEL_DIR}/saved_model.keras\")\n",
        "    transformer = tf.keras.models.load_model(f\"{MODEL_DIR}/saved_model.keras\", compile=True)\n",
        "else:\n",
        "    print(\"No saved model found.\")"
      ]
    },
    {
      "cell_type": "markdown",
      "metadata": {
        "id": "YYWER9Dvdh5j"
      },
      "source": [
        "# Visualization of Training Metrics\n",
        "\n",
        "- Plot the training loss and accuracy to monitor the model's performance over epochs.\n",
        "- Use separate plots for loss and accuracy for better clarity.\n"
      ]
    },
    {
      "cell_type": "code",
      "execution_count": null,
      "metadata": {
        "colab": {
          "base_uri": "https://localhost:8080/",
          "height": 504
        },
        "id": "bC3eZKt5H_gz",
        "outputId": "5a2548e9-ab35-43fa-97d3-417e305af4c5"
      },
      "outputs": [
        {
          "output_type": "execute_result",
          "data": {
            "text/plain": [
              "<matplotlib.legend.Legend at 0x7ddc304123e0>"
            ]
          },
          "metadata": {},
          "execution_count": 37
        },
        {
          "output_type": "display_data",
          "data": {
            "text/plain": [
              "<Figure size 1200x500 with 1 Axes>"
            ],
            "image/png": "[encoded data removed]"
          },
          "metadata": {}
        }
      ],
      "source": [
        "# Visualization of Loss and Accuracy\n",
        "plt.figure(figsize=(12, 5))\n",
        "\n",
        "# Loss plot\n",
        "plt.subplot(1, 2, 1)\n",
        "plt.plot(range(1, len(loss_history) + 1), loss_history, label='Loss')\n",
        "plt.title(\"Training Loss\")\n",
        "plt.xlabel(\"Epoch\")\n",
        "plt.ylabel(\"Loss\")\n",
        "plt.legend()"
      ]
    },
    {
      "cell_type": "code",
      "execution_count": null,
      "metadata": {
        "colab": {
          "base_uri": "https://localhost:8080/",
          "height": 487
        },
        "id": "P_JYla-PJ4cr",
        "outputId": "aace05cd-548d-4dda-95fc-105b1dd6997e"
      },
      "outputs": [
        {
          "output_type": "display_data",
          "data": {
            "text/plain": [
              "<Figure size 640x480 with 1 Axes>"
            ],
            "image/png": "[encoded data removed]"
          },
          "metadata": {}
        }
      ],
      "source": [
        "# Accuracy plot\n",
        "plt.subplot(1, 2, 2)\n",
        "plt.plot(range(1, len(accuracy_history) + 1), accuracy_history, label='Accuracy')\n",
        "plt.title(\"Training Accuracy\")\n",
        "plt.xlabel(\"Epoch\")\n",
        "plt.ylabel(\"Accuracy\")\n",
        "plt.legend()\n",
        "\n",
        "plt.tight_layout()\n",
        "plt.show()"
      ]
    },
    {
      "cell_type": "markdown",
      "metadata": {
        "id": "1kUoSC3RdfP2"
      },
      "source": [
        "# Inference\n",
        "\n",
        "- Use the trained Transformer model to translate English sentences into French.\n",
        "- Predict one word at a time, appending the predicted token to the output sequence until an `<eos>` token is generated or the maximum sequence length is reached.\n",
        "- Convert the predicted token sequences back into human-readable text using the tokenizer's `sequences_to_texts` function.\n"
      ]
    },
    {
      "cell_type": "code",
      "execution_count": null,
      "metadata": {
        "id": "b0Zq6WVCyvrA"
      },
      "outputs": [],
      "source": [
        "text = \"\"\"Hello how are you doing today.\"\"\"\n",
        "text = \"sos \" + text.lower() + \" eos\"\n",
        "inp_seq = pad_sequences(tokenizer_en.texts_to_sequences([text]), maxlen=50, padding='post')\n",
        "out_seq = tf.convert_to_tensor([[tokenizer_fr.word_index[\"sos\"]]])\n",
        "\n",
        "enc_padding_mask, combined_mask, dec_padding_mask = create_masks(inp_seq, out_seq)\n",
        "output_tokens = []\n",
        "\n",
        "# Looping until the maximum length of the output sequence is reached or the <end> token is generated\n",
        "for i in range(100):\n",
        "    # Calling the Transformer model on the input and output sequences and masks\n",
        "    output, attn_weights = transformer(inp=inp_seq, tar=out_seq, training=False, enc_padding_mask=enc_padding_mask, look_ahead_mask=combined_mask, dec_padding_mask=dec_padding_mask)\n",
        "    # Getting the last token from the output sequence\n",
        "    last_token = output[:, -1, :]\n",
        "\n",
        "    # Getting the token with the highest probability from the last token\n",
        "    predicted_token = tf.cast(tf.argmax(last_token, axis=-1), tf.int32)\n",
        "\n",
        "    # Checking if the predicted token is the <end> token\n",
        "    if predicted_token == tokenizer_fr.word_index[\"eos\"]:\n",
        "        break\n",
        "\n",
        "    # Appending the predicted token to the output tokens list\n",
        "    output_tokens.append(predicted_token[0].numpy())\n",
        "\n",
        "    # Expand dimensions to match the shape of out_seq\n",
        "    predicted_token = tf.expand_dims(predicted_token, axis=-1)\n",
        "\n",
        "    # Concatenating the predicted token to the output sequence\n",
        "    out_seq = tf.concat([out_seq, predicted_token], axis=-1)\n",
        "\n",
        "    # Updating the mask for the output sequence\n",
        "    decoder_padding_mask, look_ahead_mask = create_padding_mask(out_seq), create_look_ahead_mask(tf.shape(out_seq)[1])\n",
        "    combined_mask = tf.maximum(decoder_padding_mask, look_ahead_mask)"
      ]
    },
    {
      "cell_type": "code",
      "execution_count": null,
      "metadata": {
        "id": "Dyuu9f9Gzxhv"
      },
      "outputs": [],
      "source": [
        "# Converting the output tokens list to a tensor\n",
        "output_tokens = tf.convert_to_tensor([output_tokens])"
      ]
    },
    {
      "cell_type": "code",
      "execution_count": null,
      "metadata": {
        "colab": {
          "base_uri": "https://localhost:8080/"
        },
        "id": "fnkmyrCrOqHq",
        "outputId": "68f21fd6-a109-457a-e37f-e51c3ae88424"
      },
      "outputs": [
        {
          "output_type": "execute_result",
          "data": {
            "text/plain": [
              "['bonjour comment allez vous aujourd hui']"
            ]
          },
          "metadata": {},
          "execution_count": 53
        }
      ],
      "source": [
        "tokenizer_fr.sequences_to_texts(output_tokens.numpy())"
      ]
    },
    {
      "cell_type": "code",
      "execution_count": null,
      "metadata": {
        "colab": {
          "base_uri": "https://localhost:8080/"
        },
        "id": "viER_5pWOryp",
        "outputId": "0cf26151-2842-4ad9-fc42-f6c6a0a5e087"
      },
      "outputs": [
        {
          "output_type": "execute_result",
          "data": {
            "text/plain": [
              "['sos hello how are you doing today eos']"
            ]
          },
          "metadata": {},
          "execution_count": 54
        }
      ],
      "source": [
        "tokenizer_en.sequences_to_texts(inp_seq)"
      ]
    }
  ],
  "metadata": {
    "accelerator": "GPU",
    "colab": {
      "gpuType": "T4",
      "provenance": []
    },
    "kernelspec": {
      "display_name": "Python 3",
      "name": "python3"
    },
    "language_info": {
      "name": "python"
    }
  },
  "nbformat": 4,
  "nbformat_minor": 0
}